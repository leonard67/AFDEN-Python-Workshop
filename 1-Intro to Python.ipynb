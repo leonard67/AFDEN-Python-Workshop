{
 "cells": [
  {
   "cell_type": "markdown",
   "metadata": {},
   "source": [
    "In this first module, we will quickly go through the Python Basics, from data types to control flows. This module is designed with beginners in mind. You will be introduced to the essential building blocks of Python, moving step by step from basic concepts to more practical applications. Along the way, you will practice coding through short examples and exercises. I will also share the functions that I frequently uesed in my own research such as list conprehension and lambda functions. By the end, you’ll put everything together in a fun project: building a simple chat bot.\n",
    "\n",
    "**Learning Outcomes**\n",
    "\n",
    "By completing this tutorial, you will be able to:\n",
    "\n",
    "- Understand Python’s core data types (integers, floats, strings, booleans) and how they are used.\n",
    "\n",
    "- Work with collections such as lists and dictionaries to store and manage groups of data.\n",
    "\n",
    "- Define and use functions to organize and reuse code effectively.\n",
    "\n",
    "- Apply control flows (if statements, loops) to make decisions and repeat tasks in your programs.\n",
    "\n",
    "- Handle errors gracefully using Python’s exception handling features.\n",
    "\n",
    "- Import and use packages to extend Python’s functionality.\n",
    "\n",
    "- Integrate your knowledge by developing a simple chat bot that responds to user input."
   ]
  },
  {
   "cell_type": "markdown",
   "metadata": {},
   "source": [
    "### 1 Basic Commands in Python"
   ]
  },
  {
   "cell_type": "markdown",
   "metadata": {},
   "source": [
    "#### 1.1 Arithmetic \n",
    "\n",
    "- Arithmetic follows the normal conventions you've used all your life: `+`,`-`,`/`, `*`.\n",
    "- To compute powers, use the `**` operator.  Use `%` for modular division.\n",
    "- Parentheses can/should be used for grouping.\n",
    "- Use `_` for the last printed expression"
   ]
  },
  {
   "cell_type": "code",
   "execution_count": null,
   "metadata": {},
   "outputs": [],
   "source": [
    "5 % 2"
   ]
  },
  {
   "cell_type": "code",
   "execution_count": null,
   "metadata": {},
   "outputs": [],
   "source": [
    "a = 3.14\n",
    "b = 210 / 5\n",
    "b / (a ** 2)"
   ]
  },
  {
   "cell_type": "markdown",
   "metadata": {},
   "source": [
    "#### 1.2 Comparisons\n",
    "Comparisons allow you to evaluate whether a Boolean statement is true or false.  You can also use Booleans later for indicator variables, among many other useful tools.  A couple notes:\n",
    " - The operators `>` and `<` work as you'd expect.\n",
    " - Use `=` and `==` differently.  The equal sign (`=`) assigns variables, whereas `==` is a comparison operator."
   ]
  },
  {
   "cell_type": "code",
   "execution_count": null,
   "metadata": {},
   "outputs": [],
   "source": [
    "a , b = 1, 2\n",
    "\n",
    "print(a < b)\n",
    "print(a == b)\n",
    "print(a >= b)\n",
    "print(a != b)"
   ]
  },
  {
   "cell_type": "code",
   "execution_count": null,
   "metadata": {},
   "outputs": [],
   "source": [
    "(a>b) == (b>a)"
   ]
  },
  {
   "cell_type": "code",
   "execution_count": null,
   "metadata": {},
   "outputs": [],
   "source": [
    "1 < 5 and not 5 < 10"
   ]
  },
  {
   "cell_type": "code",
   "execution_count": null,
   "metadata": {},
   "outputs": [],
   "source": [
    "1 < 5 or 10 < 5"
   ]
  },
  {
   "cell_type": "markdown",
   "metadata": {},
   "source": [
    "##### Operators\n",
    "- Bitwise: operators are used to compare (binary) numbers. These operators operates on the bitwise representation of integers, hence they can be a bit less intuitive than other operators. (`&, |, ^, ~, <<, >>`)\n",
    "- Membership: `in`, `not in`\n",
    "- Identity:  used to compare the objects, not if they are equal, but if they are actually **the same object**, with the same memory location. (`is`, `is not`)\n",
    "- Logical: `and`, `or`, `not`\n",
    "- Comparison: `==, !=, >, <, >=, <=`\n",
    "- Arithmetic: `+-*/%\\**//`\n",
    "- Assignment: `=`\n",
    "\n",
    "| **Operator** | **Example** | **Same As** |\n",
    "|:------------ |:-------------:|:---------------:|\n",
    "| =            |     x = 5     |                 |\n",
    "| +=           |    x += 3     |    x = x + 3    |\n",
    "| -=           |    x -= 3     |    x = x - 3    |\n",
    "| *=           |    x *= 3     |    x = x * 3    |\n",
    "| /=           |    x /= 3     |    x = x / 3    |\n",
    "| %=           |    x %= 3     |    x = x % 3    |\n",
    "| //=          |    x //= 3    |   x = x // 3    |\n",
    "| \\*\\*=        |    x **= 3    |   x = x ** 3    |\n",
    "| &=           |    x &= 3     |    x = x & 3    |\n",
    "| \\|=          |    x \\|= 3    |   x = x \\| 3    |\n",
    "| ^=           |    x ^= 3     |    x = x ^ 3    |\n",
    "| >>=          |    x >>= 3    |   x = x >> 3    |\n",
    "| <<=          |    x <<= 3    |   x = x << 3    |\n",
    "| :=           | print(x := 3) | x = 3  print(x) |\n",
    "\n",
    "`del`: can be used to delete entire variables\n"
   ]
  },
  {
   "cell_type": "markdown",
   "metadata": {},
   "source": [
    "### 2. Data types and Containers\n",
    "**4 built-in data types in Python**: \n",
    "1. Integer (`int`)\n",
    "2. Float (`float`)\n",
    "3. Boolean (`bool`)\n",
    "4. String (`str`)"
   ]
  },
  {
   "cell_type": "code",
   "execution_count": null,
   "metadata": {},
   "outputs": [],
   "source": [
    "# String\n",
    "text1 = 'apple'\n",
    "text2 = \"peach\"\n",
    "text3 = 'She said \"Ciao\".'\n",
    "\n",
    "# Integer\n",
    "number1 = 10\n",
    "\n",
    "# Float\n",
    "number2 = 3.14159265359\n",
    "number3 = round(number2, 2)\n",
    "\n",
    "# Boolean\n",
    "is_true = True\n",
    "is_true1 = 2 > 1\n",
    "is_false = False\n",
    "is_false1 = 2 == 1"
   ]
  },
  {
   "cell_type": "code",
   "execution_count": null,
   "metadata": {},
   "outputs": [],
   "source": [
    "num1 = 6.4\n",
    "num2 = 8.9\n",
    "print(f'{int(num1)=}', '|', f'{int(num2)=}')\n",
    "print(f'{round(num1)=}', '|', f'{round(num2)=}')"
   ]
  },
  {
   "cell_type": "markdown",
   "metadata": {},
   "source": [
    "**4 built-in containers types**:\n",
    "1. List\n",
    "2. Tuple\n",
    "3. Dictionary\n",
    "4. Set"
   ]
  },
  {
   "cell_type": "code",
   "execution_count": null,
   "metadata": {},
   "outputs": [],
   "source": [
    "#List\n",
    "list1 = [1, 2, True, 2, 3, 'something']\n",
    "list2 = [[1, 2, 3], list1, number2]\n",
    "print(list2)\n",
    "\n",
    "#Dictionary\n",
    "dictionary1 = {'key': 'value', 'key2': ['value2', 123, True], 123: 321}\n",
    "\n",
    "#Tuple (cannot be changed after created, i.e., immutable; less used)\n",
    "tuple1 = (1, 2, True, 3, 'something')\n",
    "\n",
    "#Set (no duplicates; less used)\n",
    "set1 = {1, 2, 2, 5, 5, (2==3), False, 'something'}\n",
    "print(set1)"
   ]
  },
  {
   "cell_type": "code",
   "execution_count": null,
   "metadata": {},
   "outputs": [],
   "source": [
    "print(type(text1))\n",
    "print(type(number1))\n",
    "print(type(number2))\n",
    "print(type(is_true))\n",
    "print(type(tuple1))\n",
    "print(type(list1))\n",
    "print(type(set1))\n",
    "print(type(dictionary1))"
   ]
  },
  {
   "cell_type": "code",
   "execution_count": null,
   "metadata": {},
   "outputs": [],
   "source": [
    "#Type conversion\n",
    "number3 = '100'\n",
    "print(int(number3) + 10)"
   ]
  },
  {
   "cell_type": "code",
   "execution_count": null,
   "metadata": {},
   "outputs": [],
   "source": [
    "number4 = 10.78\n",
    "print(int(number4))"
   ]
  },
  {
   "cell_type": "code",
   "execution_count": null,
   "metadata": {},
   "outputs": [],
   "source": [
    "print(int(3.88) + int(\"28\"))  \n",
    "print(int(-2.95) + int(\"28\"))\n",
    "print(float(3) + float(\"28\")) \n",
    "print(str(3.88) + str(28))"
   ]
  },
  {
   "cell_type": "markdown",
   "metadata": {},
   "source": [
    "**Mutability and Immutability**\n",
    "\n",
    "Mutability refers to data inside the data structure that can be modified. For example, you can either change, update, or delete the data when needed. A list is an example of a mutable data structure. The opposite of mutable is immutable. An immutable data structure will not allow modification once the data has been set. The tuple is an example of an immutable data structure."
   ]
  },
  {
   "cell_type": "markdown",
   "metadata": {},
   "source": [
    "#### 2.1. String"
   ]
  },
  {
   "cell_type": "markdown",
   "metadata": {},
   "source": [
    "##### Combine & Duplicate"
   ]
  },
  {
   "cell_type": "code",
   "execution_count": null,
   "metadata": {},
   "outputs": [],
   "source": [
    "template = \"I have a lovely cat named\"\n",
    "name = \"Karl\"\n",
    "greeting = template + \" \" + name + \".\"\n",
    "print(greeting)"
   ]
  },
  {
   "cell_type": "code",
   "execution_count": null,
   "metadata": {},
   "outputs": [],
   "source": [
    "laugh = 3 * \"Ho \"\n",
    "print(laugh)"
   ]
  },
  {
   "cell_type": "markdown",
   "metadata": {},
   "source": [
    "##### Extract &Slice"
   ]
  },
  {
   "cell_type": "code",
   "execution_count": null,
   "metadata": {},
   "outputs": [],
   "source": [
    "letters = \"\\\"Hello World\\\" is the first program one usually writes when learning a new programming language.\"\n",
    "letters[1]"
   ]
  },
  {
   "cell_type": "markdown",
   "metadata": {},
   "source": [
    "You can extract a _substring_ from a string by using **slice**. \n",
    "Format: `[start:end:step]`\n",
    "- `[:]` extracts the all string\n",
    "- `[start:]` from `start` to the end\n",
    "- `[:end]` from the beginning to the `end - 1` offset\n",
    "- `[start:end]` from `start` to `end - 1`\n",
    "- `[start:end:step]` from `start` to `end - 1`, skipping characters by `step`"
   ]
  },
  {
   "cell_type": "code",
   "execution_count": null,
   "metadata": {},
   "outputs": [],
   "source": [
    "letters[-2]"
   ]
  },
  {
   "cell_type": "code",
   "execution_count": null,
   "metadata": {},
   "outputs": [],
   "source": [
    "letters[:]"
   ]
  },
  {
   "cell_type": "markdown",
   "metadata": {},
   "source": [
    "- `[start:]` from `start` to the end"
   ]
  },
  {
   "cell_type": "code",
   "execution_count": null,
   "metadata": {},
   "outputs": [],
   "source": [
    "letters[2:]"
   ]
  },
  {
   "cell_type": "code",
   "execution_count": null,
   "metadata": {},
   "outputs": [],
   "source": [
    "letters[-3:]"
   ]
  },
  {
   "cell_type": "markdown",
   "metadata": {},
   "source": [
    "- `[:end]` from the beginning to the `end - 1` offset"
   ]
  },
  {
   "cell_type": "code",
   "execution_count": null,
   "metadata": {},
   "outputs": [],
   "source": [
    "letters[:15]"
   ]
  },
  {
   "cell_type": "markdown",
   "metadata": {},
   "source": [
    "- `[start:end]` from `start` to `end - 1`"
   ]
  },
  {
   "cell_type": "code",
   "execution_count": null,
   "metadata": {},
   "outputs": [],
   "source": [
    "letters[2:5]"
   ]
  },
  {
   "cell_type": "code",
   "execution_count": null,
   "metadata": {},
   "outputs": [],
   "source": [
    "letters[-6:-2]"
   ]
  },
  {
   "cell_type": "markdown",
   "metadata": {},
   "source": [
    "- `[start:end:step]` from `start` to `end - 1`, skipping characters by `step`"
   ]
  },
  {
   "cell_type": "code",
   "execution_count": null,
   "metadata": {},
   "outputs": [],
   "source": [
    "letters[1:5:2]"
   ]
  },
  {
   "cell_type": "code",
   "execution_count": null,
   "metadata": {},
   "outputs": [],
   "source": [
    "letters[::7]"
   ]
  },
  {
   "cell_type": "code",
   "execution_count": null,
   "metadata": {},
   "outputs": [],
   "source": [
    "letters[::-1]"
   ]
  },
  {
   "cell_type": "code",
   "execution_count": null,
   "metadata": {},
   "outputs": [],
   "source": [
    "letters[-2:-6:-1]"
   ]
  },
  {
   "cell_type": "markdown",
   "metadata": {},
   "source": [
    "##### Get Length"
   ]
  },
  {
   "cell_type": "code",
   "execution_count": null,
   "metadata": {},
   "outputs": [],
   "source": [
    "len(letters)"
   ]
  },
  {
   "cell_type": "markdown",
   "metadata": {},
   "source": [
    "##### Split & Combine"
   ]
  },
  {
   "cell_type": "code",
   "execution_count": null,
   "metadata": {},
   "outputs": [],
   "source": [
    "lan = \"python java C C++ Swift SQL\"\n",
    "lan.split()"
   ]
  },
  {
   "cell_type": "code",
   "execution_count": null,
   "metadata": {},
   "outputs": [],
   "source": [
    "todos = \"download python, install, download IDE, learn\"\n",
    "todos.split(', ')"
   ]
  },
  {
   "cell_type": "code",
   "execution_count": null,
   "metadata": {},
   "outputs": [],
   "source": [
    "', and '.join(['download python', 'install', 'download IDE', 'learn'])"
   ]
  },
  {
   "cell_type": "markdown",
   "metadata": {},
   "source": [
    "##### Substitue"
   ]
  },
  {
   "cell_type": "code",
   "execution_count": null,
   "metadata": {},
   "outputs": [],
   "source": [
    "s = 'I like C. \\nI like C++. \\nI like Python'\n",
    "print(s.replace('like', 'hate'))"
   ]
  },
  {
   "cell_type": "code",
   "execution_count": null,
   "metadata": {},
   "outputs": [],
   "source": [
    "print(s.replace('like', 'hate', 2))"
   ]
  },
  {
   "cell_type": "markdown",
   "metadata": {},
   "source": [
    "##### Other useful String commands"
   ]
  },
  {
   "cell_type": "markdown",
   "metadata": {},
   "source": [
    "We can test if a string contains certain properties using the following functions:\n",
    "\n",
    "`islower()` - returns True if *all* characters in a string are lower case\n",
    "\n",
    "`isupper()` - returns True if *all* characters in a string are upper case\n",
    "\n",
    "`isnumeric()` - returns True if *all* characters in a string are numeric\n",
    "\n",
    "`isalpha()` - returns True if *all* characters in a string are in the alphabet\n",
    "\n",
    "`isalnum()` - returns True if *all* characters in a string are alphanumeric\n",
    "\n",
    "`startswith()` - returns True if a string starts with a specified value\n",
    "\n",
    "`endswith()` - returns True if a string ends with a specified value"
   ]
  },
  {
   "cell_type": "code",
   "execution_count": null,
   "metadata": {},
   "outputs": [],
   "source": [
    "py_desc = 'Python description: Python is a programming language that lets you work quickly and integrate systems more effectively.'\n",
    "print('The text is all lower case    : '+str(py_desc.islower()))\n",
    "print('The text is all upper case    : '+str(py_desc.isupper()))\n",
    "print('The text is all numeric       : '+str(py_desc.isnumeric()))\n",
    "print('The text is all alphabetic    : '+str(py_desc.isalpha()))\n",
    "print('The text is all alpha-numeric : '+str(py_desc.isalnum()))\n",
    "print('The text starts with \"Py\"     : '+str(py_desc.startswith('Py')))\n",
    "print('The text ends with \"!\"        : '+str(py_desc.endswith('!')))"
   ]
  },
  {
   "cell_type": "code",
   "execution_count": null,
   "metadata": {},
   "outputs": [],
   "source": [
    "py_desc.find('language')"
   ]
  },
  {
   "cell_type": "code",
   "execution_count": null,
   "metadata": {},
   "outputs": [],
   "source": [
    "py_desc.index('language')"
   ]
  },
  {
   "cell_type": "code",
   "execution_count": null,
   "metadata": {},
   "outputs": [],
   "source": [
    "py_desc.count(\"Python\")"
   ]
  },
  {
   "cell_type": "code",
   "execution_count": null,
   "metadata": {},
   "outputs": [],
   "source": [
    "py_desc.strip('.')"
   ]
  },
  {
   "cell_type": "code",
   "execution_count": null,
   "metadata": {},
   "outputs": [],
   "source": [
    "py_desc.upper()"
   ]
  },
  {
   "cell_type": "code",
   "execution_count": null,
   "metadata": {},
   "outputs": [],
   "source": [
    "py_desc.lower()"
   ]
  },
  {
   "cell_type": "code",
   "execution_count": null,
   "metadata": {},
   "outputs": [],
   "source": [
    "py_desc.title()"
   ]
  },
  {
   "cell_type": "markdown",
   "metadata": {},
   "source": [
    "#### 2.2 f-string"
   ]
  },
  {
   "cell_type": "code",
   "execution_count": null,
   "metadata": {},
   "outputs": [],
   "source": [
    "number3 = 101\n",
    "print(f'the number I have defined is {number3}.')"
   ]
  },
  {
   "cell_type": "code",
   "execution_count": null,
   "metadata": {},
   "outputs": [],
   "source": [
    "# Sperator and number formatting\n",
    "n = 1620000099000 # can also use 1_000_000_000\n",
    "\n",
    "print(f'The number is: {n:,}')\n",
    "print(f'The number is: {n:_}')\n",
    "print(f'The number is: {n:.3e}')"
   ]
  },
  {
   "cell_type": "code",
   "execution_count": null,
   "metadata": {},
   "outputs": [],
   "source": [
    "#Float formatting\n",
    "pi = 3.14159265359\n",
    "print(f'{pi:.2f}')\n",
    "print(f'{pi*1000000:,.2f}')"
   ]
  },
  {
   "cell_type": "markdown",
   "metadata": {},
   "source": [
    "#### 2.3. Lists"
   ]
  },
  {
   "cell_type": "code",
   "execution_count": null,
   "metadata": {},
   "outputs": [],
   "source": [
    "tickers = ['MSFT','NFLX','TSLA']\n",
    "tickers"
   ]
  },
  {
   "cell_type": "code",
   "execution_count": null,
   "metadata": {},
   "outputs": [],
   "source": [
    "tickers[0]"
   ]
  },
  {
   "cell_type": "code",
   "execution_count": null,
   "metadata": {},
   "outputs": [],
   "source": [
    "tickers[-1]"
   ]
  },
  {
   "cell_type": "code",
   "execution_count": null,
   "metadata": {},
   "outputs": [],
   "source": [
    "tickers[1:2]"
   ]
  },
  {
   "cell_type": "code",
   "execution_count": null,
   "metadata": {},
   "outputs": [],
   "source": [
    "tickers[2:]"
   ]
  },
  {
   "cell_type": "code",
   "execution_count": null,
   "metadata": {},
   "outputs": [],
   "source": [
    "tickers.append('AAPL')\n",
    "tickers"
   ]
  },
  {
   "cell_type": "code",
   "execution_count": null,
   "metadata": {},
   "outputs": [],
   "source": [
    "tickers.remove('TSLA')\n",
    "tickers"
   ]
  },
  {
   "cell_type": "code",
   "execution_count": null,
   "metadata": {},
   "outputs": [],
   "source": [
    "len(tickers)"
   ]
  },
  {
   "cell_type": "code",
   "execution_count": null,
   "metadata": {},
   "outputs": [],
   "source": [
    "\"AAPL\" in tickers"
   ]
  },
  {
   "cell_type": "code",
   "execution_count": null,
   "metadata": {},
   "outputs": [],
   "source": [
    "\"TSLA\" in tickers"
   ]
  },
  {
   "cell_type": "code",
   "execution_count": null,
   "metadata": {},
   "outputs": [],
   "source": [
    "tickers.index(\"AAPL\")"
   ]
  },
  {
   "cell_type": "markdown",
   "metadata": {},
   "source": [
    "##### List Comprehension"
   ]
  },
  {
   "cell_type": "code",
   "execution_count": null,
   "metadata": {},
   "outputs": [],
   "source": [
    "#Basic syntax: [function(i) for i in iterable]\n",
    "[i + 1 for i in range(10)]"
   ]
  },
  {
   "cell_type": "code",
   "execution_count": null,
   "metadata": {},
   "outputs": [],
   "source": [
    "[[y*10 + x for x in range(2)] for y in range(3)]"
   ]
  },
  {
   "cell_type": "code",
   "execution_count": null,
   "metadata": {},
   "outputs": [],
   "source": [
    "#Plus if statement\n",
    "[i + 1 for i in range(10) if i%2==0]"
   ]
  },
  {
   "cell_type": "code",
   "execution_count": null,
   "metadata": {},
   "outputs": [],
   "source": [
    "#Plus if/else statement\n",
    "[i + 1 if i%2==0 else i**2 for i in range(10) ]"
   ]
  },
  {
   "cell_type": "code",
   "execution_count": null,
   "metadata": {},
   "outputs": [],
   "source": [
    "FruitList = ['apple', 'banana', 'peach', 'orange', 'grape']\n",
    "['yummy ' + i if len(i)<=5 else 'long' for i in FruitList]"
   ]
  },
  {
   "cell_type": "code",
   "execution_count": null,
   "metadata": {},
   "outputs": [],
   "source": [
    "pairs = [[1, 2], [True, 'apple'], (5, 6, 7, 8)]\n",
    "[item for sublist in pairs for item in sublist]"
   ]
  },
  {
   "cell_type": "code",
   "execution_count": null,
   "metadata": {},
   "outputs": [],
   "source": [
    "any(i < 5 for i in range(10))"
   ]
  },
  {
   "cell_type": "code",
   "execution_count": null,
   "metadata": {},
   "outputs": [],
   "source": [
    "all(i < 5 for i in range(10))"
   ]
  },
  {
   "cell_type": "code",
   "execution_count": null,
   "metadata": {},
   "outputs": [],
   "source": [
    "any(len(i) <= 5 for i in FruitList)"
   ]
  },
  {
   "cell_type": "markdown",
   "metadata": {},
   "source": [
    "##### `zip()` function\n",
    "The function takes multiple iterables and returns an iterator of tuples. Each tuple contains elements from the corresponding index of the input iterables."
   ]
  },
  {
   "cell_type": "code",
   "execution_count": null,
   "metadata": {},
   "outputs": [],
   "source": [
    "names = [\"Alice\", \"Bob\", \"Charlie\"]\n",
    "ages = [25, 30, 35]\n",
    "\n",
    "zipped = zip(names, ages)\n",
    "print(list(zipped))"
   ]
  },
  {
   "cell_type": "code",
   "execution_count": null,
   "metadata": {},
   "outputs": [],
   "source": [
    "# Using `zip()` in Loops\n",
    "for names, ages in zip(names, ages):\n",
    "    print(f\"{names} aged {ages}\")"
   ]
  },
  {
   "cell_type": "markdown",
   "metadata": {},
   "source": [
    "#### 2.4. Dictionaries"
   ]
  },
  {
   "cell_type": "code",
   "execution_count": null,
   "metadata": {},
   "outputs": [],
   "source": [
    "tick1 = {\"MSFT\": 200, \"GOOGL\":40, \"TSLA\": 20 }\n",
    "tick1"
   ]
  },
  {
   "cell_type": "code",
   "execution_count": null,
   "metadata": {},
   "outputs": [],
   "source": [
    "# to add a key-value element to the dictionary, use the 'update' method\n",
    "# Cannot use dict + dict\n",
    "tick1.update({\"FB\":20})\n",
    "# Or simply: tick1[\"FB\"] = 20\n",
    "tick1"
   ]
  },
  {
   "cell_type": "code",
   "execution_count": null,
   "metadata": {},
   "outputs": [],
   "source": [
    "del tick1[\"FB\"]\n",
    "tick1"
   ]
  },
  {
   "cell_type": "code",
   "execution_count": null,
   "metadata": {},
   "outputs": [],
   "source": [
    "\"GOOGL\" in tick1"
   ]
  },
  {
   "cell_type": "code",
   "execution_count": null,
   "metadata": {},
   "outputs": [],
   "source": [
    "tick1['GOOGL']"
   ]
  },
  {
   "cell_type": "code",
   "execution_count": null,
   "metadata": {},
   "outputs": [],
   "source": [
    "# The `get()` function\n",
    "print(tick1.get(\"NFLX\"))\n",
    "print(tick1.get(\"NFLX\", 0))"
   ]
  },
  {
   "cell_type": "code",
   "execution_count": null,
   "metadata": {},
   "outputs": [],
   "source": [
    "tick1.keys()"
   ]
  },
  {
   "cell_type": "code",
   "execution_count": null,
   "metadata": {},
   "outputs": [],
   "source": [
    "tick1.values()"
   ]
  },
  {
   "cell_type": "markdown",
   "metadata": {},
   "source": [
    "##### Using `zip()` for Dictionaries"
   ]
  },
  {
   "cell_type": "code",
   "execution_count": null,
   "metadata": {},
   "outputs": [],
   "source": [
    "keys = [\"name\", \"age\", \"city\"]\n",
    "values = [\"Alice\", 25, \"New York\"]\n",
    "\n",
    "person = dict(zip(keys, values))\n",
    "print(person)"
   ]
  },
  {
   "cell_type": "markdown",
   "metadata": {},
   "source": [
    "### 3. Functions"
   ]
  },
  {
   "cell_type": "code",
   "execution_count": null,
   "metadata": {},
   "outputs": [],
   "source": [
    "def add(a, b):\n",
    "    print(f'Adding {a} and {b}, we get:')\n",
    "    return a + b\n",
    "\n",
    "print(add(14, 92))\n",
    "print(add(b = 14, a = 92))"
   ]
  },
  {
   "cell_type": "code",
   "execution_count": null,
   "metadata": {},
   "outputs": [],
   "source": [
    "def greet(name, greeting = 'Hello'):\n",
    "    print(f'{greeting}, {name}!')\n",
    "\n",
    "greet(name = 'John')\n",
    "greet('Alice', 'Good Morning')"
   ]
  },
  {
   "cell_type": "markdown",
   "metadata": {},
   "source": [
    "#### `Lambda`"
   ]
  },
  {
   "cell_type": "code",
   "execution_count": null,
   "metadata": {},
   "outputs": [],
   "source": [
    "add1 = lambda a: a + 1\n",
    "add1(15)"
   ]
  },
  {
   "cell_type": "code",
   "execution_count": null,
   "metadata": {},
   "outputs": [],
   "source": [
    "add2 = lambda x, y: x + y\n",
    "add2(2, 3)"
   ]
  },
  {
   "cell_type": "code",
   "execution_count": null,
   "metadata": {},
   "outputs": [],
   "source": [
    "def add3(x, y):\n",
    "    return x + y\n",
    "add3(2, 3)"
   ]
  },
  {
   "cell_type": "code",
   "execution_count": null,
   "metadata": {},
   "outputs": [],
   "source": [
    "(lambda x, y: x + y)(2, 3)"
   ]
  },
  {
   "cell_type": "markdown",
   "metadata": {},
   "source": [
    "##### `map()`"
   ]
  },
  {
   "cell_type": "code",
   "execution_count": null,
   "metadata": {},
   "outputs": [],
   "source": [
    "numbers = [1, 2, 3, 4, 5, 6, 7, 8, 9, 10]\n",
    "\n",
    "squares = list(map(lambda x: x**2, numbers))\n",
    "print(squares)"
   ]
  },
  {
   "cell_type": "markdown",
   "metadata": {},
   "source": [
    "##### `filter()`"
   ]
  },
  {
   "cell_type": "code",
   "execution_count": null,
   "metadata": {},
   "outputs": [],
   "source": [
    "evens = list(filter(lambda x: x % 2 == 0, numbers))\n",
    "print(evens)"
   ]
  },
  {
   "cell_type": "markdown",
   "metadata": {},
   "source": [
    "##### `sorted()`"
   ]
  },
  {
   "cell_type": "code",
   "execution_count": null,
   "metadata": {},
   "outputs": [],
   "source": [
    "complex_values = [(1, 'b', 'Hello'), (2, 'a', 'World'), (3, 'c', 'Python')]\n",
    "sorted_values = sorted(complex_values, key=lambda x: x[1])\n",
    "print(sorted_values)"
   ]
  },
  {
   "cell_type": "markdown",
   "metadata": {},
   "source": [
    "#### Packages\n",
    "Python packages (or almost interchangeably, libraries) are collections of modules that are often developed by open-source community.\n",
    "- They extend the capabilities of the Python language. \n",
    "- We can import a Python package and utilize the functionalities that were written.\n",
    "\n",
    "#### Useful packages for AccFin research:\n",
    "- `datetime`\n",
    "- `Pathlib`\n",
    "\n",
    "More advanced ones:\n",
    "- `request` and `flask`\n",
    "- `mysql`"
   ]
  },
  {
   "cell_type": "markdown",
   "metadata": {},
   "source": [
    "#### Type-hinting\n",
    "Type hinting let others know the expected data types for variables, function arguments, and return values.\n",
    "Here’s how you can add type hints to a function:\n",
    "Add a colon and a data type after each function parameter\n",
    "Add an arrow (->) and a data type after the function to specify the return data type\n",
    "For example, a function that sums two integers and returns an integers:"
   ]
  },
  {
   "cell_type": "code",
   "execution_count": null,
   "metadata": {},
   "outputs": [],
   "source": [
    "def add_numbers(num1: int, num2: int) -> int:\n",
    "    return (num1 + num2)"
   ]
  },
  {
   "cell_type": "markdown",
   "metadata": {},
   "source": [
    "### 4. Control flows"
   ]
  },
  {
   "cell_type": "markdown",
   "metadata": {},
   "source": [
    "#### 4.1 `if`,  `elif` and `else` statement\n"
   ]
  },
  {
   "cell_type": "code",
   "execution_count": null,
   "metadata": {},
   "outputs": [],
   "source": [
    "if True:\n",
    "    print(\"do stuff\")"
   ]
  },
  {
   "cell_type": "code",
   "execution_count": null,
   "metadata": {},
   "outputs": [],
   "source": [
    "tick = 'TSLA'\n",
    "if tick == 'MSFT':\n",
    "    print (\"BUY\")\n",
    "else:\n",
    "    print (\"SELL\")"
   ]
  },
  {
   "cell_type": "code",
   "execution_count": null,
   "metadata": {},
   "outputs": [],
   "source": [
    "Strategy = 'Buy' if tick == 'MSFT' else 'Sell'\n",
    "print(Strategy)"
   ]
  },
  {
   "cell_type": "code",
   "execution_count": null,
   "metadata": {},
   "outputs": [],
   "source": [
    "if tick == 'MSFT':\n",
    "    print (\"BUY\")\n",
    "elif tick == 'TSLA':\n",
    "    print (\"Going to Mars\")\n",
    "else:\n",
    "    print (\"SELL\")"
   ]
  },
  {
   "cell_type": "markdown",
   "metadata": {},
   "source": [
    "#### 4.2 `for` Loop"
   ]
  },
  {
   "cell_type": "code",
   "execution_count": null,
   "metadata": {},
   "outputs": [],
   "source": [
    "for i in range(3):\n",
    "    print(f'Hello: {i}')"
   ]
  },
  {
   "cell_type": "code",
   "execution_count": null,
   "metadata": {},
   "outputs": [],
   "source": [
    "b1 = list(range(10))\n",
    "sum = 0\n",
    "for x in b1:\n",
    "    sum += x**2\n",
    "print(sum)"
   ]
  },
  {
   "cell_type": "code",
   "execution_count": null,
   "metadata": {},
   "outputs": [],
   "source": [
    "tickers = ['MSFT','NFLX','TSLA']\n",
    "for item in tickers:\n",
    "    print(f\"buy {item}!\")"
   ]
  },
  {
   "cell_type": "markdown",
   "metadata": {},
   "source": [
    "Using `for` Loop with `else`"
   ]
  },
  {
   "cell_type": "code",
   "execution_count": null,
   "metadata": {},
   "outputs": [],
   "source": [
    "tickers = ['MSFT','NFLX','TSLA']\n",
    "for ticker in tickers:\n",
    "    if ticker == 'NVDA':\n",
    "        break\n",
    "else:\n",
    "    print(\"Nvidia not found\")"
   ]
  },
  {
   "cell_type": "markdown",
   "metadata": {},
   "source": [
    "##### Loop Control Statements: `pass`, `continue` and `break`"
   ]
  },
  {
   "cell_type": "code",
   "execution_count": null,
   "metadata": {},
   "outputs": [],
   "source": [
    "# pass: acts as a placeholder and does nothing. It is commonly used when a statement is required syntactically but no action is needed.\n",
    "for i in tickers:\n",
    "    if i == 'MSFT':\n",
    "        pass\n",
    "    elif i == 'NFLX':\n",
    "        pass\n",
    "    else:\n",
    "        print(f\"{i} - Sell this stock!\")"
   ]
  },
  {
   "cell_type": "code",
   "execution_count": null,
   "metadata": {},
   "outputs": [],
   "source": [
    "#continue: skips the current iteration of the loop and moves to the next iteration.\n",
    "for i in tickers:\n",
    "    if i == 'MSFT':\n",
    "        continue\n",
    "    elif i == 'NFLX':\n",
    "        continue\n",
    "    else:\n",
    "        print(i + \" - Sell this stock!\")"
   ]
  },
  {
   "cell_type": "code",
   "execution_count": null,
   "metadata": {},
   "outputs": [],
   "source": [
    "#break: terminates the loop prematurely and transfers control to the next statement after the loop.\n",
    "for i in tickers:\n",
    "    if i == 'MSFT':\n",
    "        print(i + \" - Buy this stock!\")\n",
    "    elif i == 'NFLX':\n",
    "        break\n",
    "    elif i == \"TSLA\":\n",
    "        print(i + \" - Buy this stock!\")"
   ]
  },
  {
   "cell_type": "markdown",
   "metadata": {},
   "source": [
    "#### 4.3 `while` Loop "
   ]
  },
  {
   "cell_type": "code",
   "execution_count": null,
   "metadata": {},
   "outputs": [],
   "source": [
    "count = 1\n",
    "while count < 10:\n",
    "    print(f\"the count is: {count}\")\n",
    "    count += 1"
   ]
  },
  {
   "cell_type": "markdown",
   "metadata": {},
   "source": [
    "#### 4.4 Expression statements: assert\n",
    "The assert statement is used to test conditions and trigger an error if the condition is not met. It is often used for debugging and testing purposes."
   ]
  },
  {
   "cell_type": "code",
   "execution_count": null,
   "metadata": {},
   "outputs": [],
   "source": [
    "x = 5\n",
    "assert x == 5, \"x should be 5\""
   ]
  },
  {
   "cell_type": "markdown",
   "metadata": {},
   "source": [
    "### 5. Error handling: `try` and `except`"
   ]
  },
  {
   "cell_type": "code",
   "execution_count": null,
   "metadata": {},
   "outputs": [],
   "source": [
    "a , b = 10, '50'\n",
    "print(a + b)\n",
    "#TypeError: unsupported operand type(s) for +: **'int'** and **'str'**"
   ]
  },
  {
   "cell_type": "markdown",
   "metadata": {},
   "source": [
    "`try` and `except` block"
   ]
  },
  {
   "cell_type": "code",
   "execution_count": null,
   "metadata": {},
   "outputs": [],
   "source": [
    "a , b = 10 , '50'\n",
    "try:\n",
    "    print(a + b)\n",
    "except:\n",
    "    print(\"There was an Error here\")\n",
    "\n",
    "print('The program still continues...')"
   ]
  },
  {
   "cell_type": "code",
   "execution_count": null,
   "metadata": {},
   "outputs": [],
   "source": [
    "a , b = 10 , '50'\n",
    "try:\n",
    "    print(a + b)\n",
    "except Exception as e: #This is a bad practice\n",
    "    print(f'Something went wrong: {e}')\n",
    "\n",
    "print('The program still continues...')"
   ]
  },
  {
   "cell_type": "code",
   "execution_count": null,
   "metadata": {},
   "outputs": [],
   "source": [
    "a , b = 10 , '50'\n",
    "try:\n",
    "    print(a + b)\n",
    "except TypeError as e:\n",
    "    print(f'Please enter a numebr in the form of integer or a float: {e}')\n",
    "except Exception as e: #This is a bad practice\n",
    "    print(f'Something else went wrong: {e}')\n",
    "print('The program still continues...')"
   ]
  },
  {
   "cell_type": "markdown",
   "metadata": {},
   "source": [
    "`finally` block"
   ]
  },
  {
   "cell_type": "code",
   "execution_count": null,
   "metadata": {},
   "outputs": [],
   "source": [
    "try:\n",
    "    raise ValueError('Not working')\n",
    "except Exception as e:\n",
    "    print(e)\n",
    "finally:\n",
    "    print('This will still be printed')\n",
    "\n",
    "print('The program still continues...')"
   ]
  },
  {
   "cell_type": "markdown",
   "metadata": {},
   "source": [
    "### 6. Imports"
   ]
  },
  {
   "cell_type": "code",
   "execution_count": null,
   "metadata": {},
   "outputs": [],
   "source": [
    "import math\n",
    "math.sqrt(3)"
   ]
  },
  {
   "cell_type": "code",
   "execution_count": null,
   "metadata": {},
   "outputs": [],
   "source": [
    "from math import sqrt, tan, cos\n",
    "print(sqrt(3))\n",
    "print(tan(1.5))\n",
    "print(cos(3))"
   ]
  },
  {
   "cell_type": "markdown",
   "metadata": {},
   "source": [
    "### 7. Summary Project"
   ]
  },
  {
   "cell_type": "markdown",
   "metadata": {},
   "source": [
    "#### 7.1 A Function of counting vowels"
   ]
  },
  {
   "cell_type": "code",
   "execution_count": null,
   "metadata": {},
   "outputs": [],
   "source": [
    "# original function:\n",
    "\n",
    "def example_function(string):\n",
    "    vowels = 0\n",
    "    for i in string:\n",
    "        if i in 'aeiouAEIOU':\n",
    "            vowels += 1\n",
    "    return vowels\n",
    "\n",
    "print(example_function('hello'))"
   ]
  },
  {
   "cell_type": "code",
   "execution_count": null,
   "metadata": {},
   "outputs": [],
   "source": [
    "# Improved function:\n"
   ]
  },
  {
   "cell_type": "markdown",
   "metadata": {},
   "source": [
    "#### 7.2 A simple chatbot"
   ]
  },
  {
   "cell_type": "code",
   "execution_count": null,
   "metadata": {},
   "outputs": [],
   "source": [
    "bot_name: str = 'GLADoS'\n",
    "print(f'Hello, I am {bot_name}. What do you want to say to me?')\n",
    "\n",
    "while True:\n",
    "    user_input: str = input('Your command: ').lower()\n",
    "    if user_input in ['hello', 'hi', 'hey']:\n",
    "        print(f'{bot_name}: Hi, Nice to meet you!')\n",
    "    elif user_input in ['bye', 'goodbye', 'see you']:\n",
    "        print(f'{bot_name}: Goodbye!')\n",
    "        break\n",
    "    elif any(i in user_input for i in ['+', 'add', 'plus']):\n",
    "        print(f'{bot_name}: Sure. Please give me two numbers to add.')\n",
    "        try:\n",
    "            num1: float = float(input('First number: '))\n",
    "            num2: float = float(input('Second number: '))\n",
    "            print(f'{bot_name}: The sum is {num1 + num2:,.2f}')\n",
    "        except ValueError:\n",
    "            print(f'{bot_name}: Please enter a valid number.')\n",
    "    else:\n",
    "        print(f'{bot_name}: Sorry, I do not understand. Can you repeat?')"
   ]
  }
 ],
 "metadata": {
  "kernelspec": {
   "display_name": "afden-python-workshop",
   "language": "python",
   "name": "python3"
  },
  "language_info": {
   "codemirror_mode": {
    "name": "ipython",
    "version": 3
   },
   "file_extension": ".py",
   "mimetype": "text/x-python",
   "name": "python",
   "nbconvert_exporter": "python",
   "pygments_lexer": "ipython3",
   "version": "3.12.10"
  }
 },
 "nbformat": 4,
 "nbformat_minor": 2
}
