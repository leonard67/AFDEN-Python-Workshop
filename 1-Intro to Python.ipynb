{
 "cells": [
  {
   "cell_type": "markdown",
   "metadata": {},
   "source": [
    "### 1 Basic Commands in Python"
   ]
  },
  {
   "cell_type": "markdown",
   "metadata": {},
   "source": [
    "#### 1.1 Arithmetic \n",
    "\n",
    "- Arithmetic follows the normal conventions you've used all your life: `+`,`-`,`/`, `*`.\n",
    "- To compute powers, use the `**` operator.  Use `%` for modular division.\n",
    "- Parentheses can/should be used for grouping.\n",
    "- Use `_` for the last printed expression"
   ]
  },
  {
   "cell_type": "code",
   "execution_count": null,
   "metadata": {},
   "outputs": [
    {
     "data": {
      "text/plain": [
       "1"
      ]
     },
     "execution_count": 1,
     "metadata": {},
     "output_type": "execute_result"
    }
   ],
   "source": [
    "5 % 2"
   ]
  },
  {
   "cell_type": "code",
   "execution_count": 10,
   "metadata": {},
   "outputs": [
    {
     "data": {
      "text/plain": [
       "4.259807700109538"
      ]
     },
     "execution_count": 10,
     "metadata": {},
     "output_type": "execute_result"
    }
   ],
   "source": [
    "a = 3.14\n",
    "b = 210 / 5\n",
    "b / (a ** 2)"
   ]
  },
  {
   "cell_type": "markdown",
   "metadata": {},
   "source": [
    "#### 1.2 Comparisons\n",
    "Comparisons allow you to evaluate whether a Boolean statement is true or false.  You can also use Booleans later for indicator variables, among many other useful tools.  A couple notes:\n",
    " - The operators `>` and `<` work as you'd expect.\n",
    " - Use `=` and `==` differently.  The equal sign (`=`) assigns variables, whereas `==` is a comparison operator."
   ]
  },
  {
   "cell_type": "code",
   "execution_count": 4,
   "metadata": {},
   "outputs": [],
   "source": [
    "a , b = 1, 2"
   ]
  },
  {
   "cell_type": "code",
   "execution_count": 5,
   "metadata": {},
   "outputs": [
    {
     "name": "stdout",
     "output_type": "stream",
     "text": [
      "True\n",
      "False\n",
      "False\n",
      "True\n"
     ]
    }
   ],
   "source": [
    "print(a < b)\n",
    "print(a == b)\n",
    "print(a >= b)\n",
    "print(a != b)"
   ]
  },
  {
   "cell_type": "code",
   "execution_count": 6,
   "metadata": {},
   "outputs": [
    {
     "data": {
      "text/plain": [
       "False"
      ]
     },
     "execution_count": 6,
     "metadata": {},
     "output_type": "execute_result"
    }
   ],
   "source": [
    "(a>b) == (b>a)"
   ]
  },
  {
   "cell_type": "code",
   "execution_count": null,
   "metadata": {},
   "outputs": [
    {
     "data": {
      "text/plain": [
       "False"
      ]
     },
     "execution_count": 7,
     "metadata": {},
     "output_type": "execute_result"
    }
   ],
   "source": [
    "1 < 5 and not 5 < 10"
   ]
  },
  {
   "cell_type": "code",
   "execution_count": 8,
   "metadata": {},
   "outputs": [
    {
     "data": {
      "text/plain": [
       "True"
      ]
     },
     "execution_count": 8,
     "metadata": {},
     "output_type": "execute_result"
    }
   ],
   "source": [
    "1 < 5 or 10 < 5"
   ]
  },
  {
   "cell_type": "markdown",
   "metadata": {},
   "source": [
    "##### Operators\n",
    "- Bitwise: operators are used to compare (binary) numbers. These operators operates on the bitwise representation of integers, hence they can be a bit less intuitive than other operators. (`&, |, ^, ~, <<, >>`)\n",
    "- Membership: `in`, `not in`\n",
    "- Identity:  used to compare the objects, not if they are equal, but if they are actually **the same object**, with the same memory location. (`is`, `is not`)\n",
    "- Logical: `and`, `or`, `not`\n",
    "- Comparison: `==, !=, >, <, >=, <=`\n",
    "- Arithmetic: `+-*/%\\**//`\n",
    "- Assignment: `=`\n",
    "\n",
    "| **Operator** | **Example** | **Same As** |\n",
    "|:------------ |:-------------:|:---------------:|\n",
    "| =            |     x = 5     |                 |\n",
    "| +=           |    x += 3     |    x = x + 3    |\n",
    "| -=           |    x -= 3     |    x = x - 3    |\n",
    "| *=           |    x *= 3     |    x = x * 3    |\n",
    "| /=           |    x /= 3     |    x = x / 3    |\n",
    "| %=           |    x %= 3     |    x = x % 3    |\n",
    "| //=          |    x //= 3    |   x = x // 3    |\n",
    "| \\*\\*=        |    x **= 3    |   x = x ** 3    |\n",
    "| &=           |    x &= 3     |    x = x & 3    |\n",
    "| \\|=          |    x \\|= 3    |   x = x \\| 3    |\n",
    "| ^=           |    x ^= 3     |    x = x ^ 3    |\n",
    "| >>=          |    x >>= 3    |   x = x >> 3    |\n",
    "| <<=          |    x <<= 3    |   x = x << 3    |\n",
    "| :=           | print(x := 3) | x = 3  print(x) |\n",
    "\n",
    "`del`: can be used to delete entire variables\n"
   ]
  },
  {
   "cell_type": "markdown",
   "metadata": {},
   "source": [
    "### 2. Data types and Containers\n",
    "**4 built-in data types in Python**: \n",
    "1. Integer (`int`)\n",
    "2. Float (`float`)\n",
    "3. Boolean (`bool`)\n",
    "4. String (`str`)"
   ]
  },
  {
   "cell_type": "code",
   "execution_count": null,
   "metadata": {},
   "outputs": [],
   "source": [
    "# String\n",
    "text1 = 'apple'\n",
    "text2 = \"peach\"\n",
    "text3 = 'She said \"Ciao\".'\n",
    "\n",
    "# Integer\n",
    "number1 = 10\n",
    "\n",
    "# Float\n",
    "number2 = 3.14159265359\n",
    "number3 = round(number2, 2)\n",
    "\n",
    "# Boolean\n",
    "is_true = True\n",
    "is_true1 = 2 > 1\n",
    "is_false = False\n",
    "is_false1 = 2 == 1"
   ]
  },
  {
   "cell_type": "code",
   "execution_count": 18,
   "metadata": {},
   "outputs": [
    {
     "name": "stdout",
     "output_type": "stream",
     "text": [
      "int(num1)=6 | int(num2)=8\n",
      "round(num1)=6 | round(num2)=9\n"
     ]
    }
   ],
   "source": [
    "num1 = 6.4\n",
    "num2 = 8.9\n",
    "print(f'{int(num1)=}', '|', f'{int(num2)=}')\n",
    "print(f'{round(num1)=}', '|', f'{round(num2)=}')"
   ]
  },
  {
   "cell_type": "markdown",
   "metadata": {},
   "source": [
    "**4 built-in containers types**:\n",
    "1. List\n",
    "2. Tuple\n",
    "3. Dictionary\n",
    "4. Set"
   ]
  },
  {
   "cell_type": "code",
   "execution_count": null,
   "metadata": {},
   "outputs": [],
   "source": [
    "#List\n",
    "list1 = [1, 2, True, 2, 3, 'something']\n",
    "list2 = [[1, 2, 3], list1, number2]\n",
    "print(list2)\n",
    "\n",
    "#Dictionary\n",
    "dictionary1 = {'key': 'value', 'key2': ['value2', 123, True], 123: 321}\n",
    "\n",
    "#Tuple (cannot be changed after created; less used)\n",
    "tuple1 = (1, 2, True, 3, 'something')\n",
    "\n",
    "#Set (no duplicates; less used)\n",
    "set1 = {1, 2, 2, 5, 5, (2==3), False, 'something'}\n",
    "print(set1)"
   ]
  },
  {
   "cell_type": "code",
   "execution_count": null,
   "metadata": {},
   "outputs": [],
   "source": [
    "print(type(text1))\n",
    "print(type(number1))\n",
    "print(type(number2))\n",
    "print(type(is_true))\n",
    "print(type(tuple1))\n",
    "print(type(list1))\n",
    "print(type(set1))\n",
    "print(type(dictionary1))"
   ]
  },
  {
   "cell_type": "code",
   "execution_count": null,
   "metadata": {},
   "outputs": [],
   "source": [
    "#Type conversion\n",
    "number3 = '100'\n",
    "print(int(number3) + 10)"
   ]
  },
  {
   "cell_type": "code",
   "execution_count": null,
   "metadata": {},
   "outputs": [],
   "source": [
    "number4 = 10.78\n",
    "print(int(number4))"
   ]
  },
  {
   "cell_type": "code",
   "execution_count": null,
   "metadata": {},
   "outputs": [
    {
     "name": "stdout",
     "output_type": "stream",
     "text": [
      "31\n",
      "26\n",
      "31.0\n",
      "3.8828\n"
     ]
    }
   ],
   "source": [
    "print(int(3.88) + int(\"28\"))  \n",
    "print(int(-2.95) + int(\"28\"))\n",
    "print(float(3) + float(\"28\")) \n",
    "print(str(3.88) + str(28))"
   ]
  },
  {
   "cell_type": "markdown",
   "metadata": {},
   "source": [
    "**Mutability and Immutability**\n",
    "\n",
    "Mutability refers to data inside the data structure that can be modified. For example, you can either change, update, or delete the data when needed. A list is an example of a mutable data structure. The opposite of mutable is immutable. An immutable data structure will not allow modification once the data has been set. The tuple is an example of an immutable data structure."
   ]
  },
  {
   "cell_type": "markdown",
   "metadata": {},
   "source": [
    "#### 2.1. String"
   ]
  },
  {
   "cell_type": "markdown",
   "metadata": {},
   "source": [
    "##### Combine & Duplicate"
   ]
  },
  {
   "cell_type": "code",
   "execution_count": null,
   "metadata": {},
   "outputs": [
    {
     "name": "stdout",
     "output_type": "stream",
     "text": [
      "My name is Karl.\n"
     ]
    }
   ],
   "source": [
    "template = \"I have a lovely cat named\"\n",
    "name = \"Karl\"\n",
    "greeting = template + \" \" + name + \".\"\n",
    "print(greeting)"
   ]
  },
  {
   "cell_type": "code",
   "execution_count": 6,
   "metadata": {},
   "outputs": [
    {
     "name": "stdout",
     "output_type": "stream",
     "text": [
      "Ho Ho Ho \n"
     ]
    }
   ],
   "source": [
    "laugh = 3 * \"Ho \"\n",
    "print(laugh)"
   ]
  },
  {
   "cell_type": "markdown",
   "metadata": {},
   "source": [
    "##### Extract &Slice"
   ]
  },
  {
   "cell_type": "code",
   "execution_count": 8,
   "metadata": {},
   "outputs": [
    {
     "data": {
      "text/plain": [
       "'H'"
      ]
     },
     "execution_count": 8,
     "metadata": {},
     "output_type": "execute_result"
    }
   ],
   "source": [
    "letters = \"\\\"Hello World\\\" is the first program one usually writes when learning a new programming language.\"\n",
    "letters[1]"
   ]
  },
  {
   "cell_type": "markdown",
   "metadata": {},
   "source": [
    "You can extract a _substring_ from a string by using **slice**. \n",
    "Format: `[start:end:step]`\n",
    "- `[:]` extracts the all string\n",
    "- `[start:]` from `start` to the end\n",
    "- `[:end]` from the beginning to the `end - 1` offset\n",
    "- `[start:end]` from `start` to `end - 1`\n",
    "- `[start:end:step]` from `start` to `end - 1`, skipping characters by `step`"
   ]
  },
  {
   "cell_type": "code",
   "execution_count": 9,
   "metadata": {},
   "outputs": [
    {
     "data": {
      "text/plain": [
       "'e'"
      ]
     },
     "execution_count": 9,
     "metadata": {},
     "output_type": "execute_result"
    }
   ],
   "source": [
    "letters[-2]"
   ]
  },
  {
   "cell_type": "code",
   "execution_count": 10,
   "metadata": {},
   "outputs": [
    {
     "data": {
      "text/plain": [
       "'\"Hello World\" is the first program one usually writes when learning a new programming language.'"
      ]
     },
     "execution_count": 10,
     "metadata": {},
     "output_type": "execute_result"
    }
   ],
   "source": [
    "letters[:]"
   ]
  },
  {
   "cell_type": "markdown",
   "metadata": {},
   "source": [
    "- `[start:]` from `start` to the end"
   ]
  },
  {
   "cell_type": "code",
   "execution_count": 11,
   "metadata": {},
   "outputs": [
    {
     "data": {
      "text/plain": [
       "'ello World\" is the first program one usually writes when learning a new programming language.'"
      ]
     },
     "execution_count": 11,
     "metadata": {},
     "output_type": "execute_result"
    }
   ],
   "source": [
    "letters[2:]"
   ]
  },
  {
   "cell_type": "code",
   "execution_count": 12,
   "metadata": {},
   "outputs": [
    {
     "data": {
      "text/plain": [
       "'ge.'"
      ]
     },
     "execution_count": 12,
     "metadata": {},
     "output_type": "execute_result"
    }
   ],
   "source": [
    "letters[-3:]"
   ]
  },
  {
   "cell_type": "markdown",
   "metadata": {},
   "source": [
    "- `[:end]` from the beginning to the `end - 1` offset"
   ]
  },
  {
   "cell_type": "code",
   "execution_count": 15,
   "metadata": {},
   "outputs": [
    {
     "data": {
      "text/plain": [
       "'\"Hello World\" i'"
      ]
     },
     "execution_count": 15,
     "metadata": {},
     "output_type": "execute_result"
    }
   ],
   "source": [
    "letters[:15]"
   ]
  },
  {
   "cell_type": "markdown",
   "metadata": {},
   "source": [
    "- `[start:end]` from `start` to `end - 1`"
   ]
  },
  {
   "cell_type": "code",
   "execution_count": 16,
   "metadata": {},
   "outputs": [
    {
     "data": {
      "text/plain": [
       "'ell'"
      ]
     },
     "execution_count": 16,
     "metadata": {},
     "output_type": "execute_result"
    }
   ],
   "source": [
    "letters[2:5]"
   ]
  },
  {
   "cell_type": "code",
   "execution_count": 17,
   "metadata": {},
   "outputs": [
    {
     "data": {
      "text/plain": [
       "'guag'"
      ]
     },
     "execution_count": 17,
     "metadata": {},
     "output_type": "execute_result"
    }
   ],
   "source": [
    "letters[-6:-2]"
   ]
  },
  {
   "cell_type": "markdown",
   "metadata": {},
   "source": [
    "- `[start:end:step]` from `start` to `end - 1`, skipping characters by `step`"
   ]
  },
  {
   "cell_type": "code",
   "execution_count": 21,
   "metadata": {},
   "outputs": [
    {
     "data": {
      "text/plain": [
       "'Hl'"
      ]
     },
     "execution_count": 21,
     "metadata": {},
     "output_type": "execute_result"
    }
   ],
   "source": [
    "letters[1:5:2]"
   ]
  },
  {
   "cell_type": "code",
   "execution_count": 22,
   "metadata": {},
   "outputs": [
    {
     "data": {
      "text/plain": [
       "'\"Wifroaienngga'"
      ]
     },
     "execution_count": 22,
     "metadata": {},
     "output_type": "execute_result"
    }
   ],
   "source": [
    "letters[::7]"
   ]
  },
  {
   "cell_type": "code",
   "execution_count": 23,
   "metadata": {},
   "outputs": [
    {
     "data": {
      "text/plain": [
       "'.egaugnal gnimmargorp wen a gninrael nehw setirw yllausu eno margorp tsrif eht si \"dlroW olleH\"'"
      ]
     },
     "execution_count": 23,
     "metadata": {},
     "output_type": "execute_result"
    }
   ],
   "source": [
    "letters[::-1]"
   ]
  },
  {
   "cell_type": "code",
   "execution_count": 24,
   "metadata": {},
   "outputs": [
    {
     "data": {
      "text/plain": [
       "'egau'"
      ]
     },
     "execution_count": 24,
     "metadata": {},
     "output_type": "execute_result"
    }
   ],
   "source": [
    "letters[-2:-6:-1]"
   ]
  },
  {
   "cell_type": "markdown",
   "metadata": {},
   "source": [
    "##### Get Length"
   ]
  },
  {
   "cell_type": "code",
   "execution_count": null,
   "metadata": {},
   "outputs": [
    {
     "data": {
      "text/plain": [
       "7"
      ]
     },
     "metadata": {},
     "output_type": "display_data"
    }
   ],
   "source": [
    "len(letters)"
   ]
  },
  {
   "cell_type": "markdown",
   "metadata": {},
   "source": [
    "##### Split & Combine"
   ]
  },
  {
   "cell_type": "code",
   "execution_count": null,
   "metadata": {},
   "outputs": [
    {
     "data": {
      "text/plain": [
       "['python', 'java', 'c', 'c++', 'swift', 'SQL']"
      ]
     },
     "execution_count": 25,
     "metadata": {},
     "output_type": "execute_result"
    }
   ],
   "source": [
    "lan = \"python java C C++ Swift SQL\"\n",
    "lan.split()"
   ]
  },
  {
   "cell_type": "code",
   "execution_count": null,
   "metadata": {},
   "outputs": [
    {
     "data": {
      "text/plain": [
       "['download python', 'install', 'download ide', 'learn']"
      ]
     },
     "metadata": {},
     "output_type": "display_data"
    }
   ],
   "source": [
    "todos = \"download python, install, download IDE, learn\"\n",
    "todos.split(', ')"
   ]
  },
  {
   "cell_type": "code",
   "execution_count": 26,
   "metadata": {},
   "outputs": [
    {
     "data": {
      "text/plain": [
       "'download python, install, download ide, learn'"
      ]
     },
     "execution_count": 26,
     "metadata": {},
     "output_type": "execute_result"
    }
   ],
   "source": [
    "', '.join(['download python', 'install', 'download ide', 'learn'])"
   ]
  },
  {
   "cell_type": "markdown",
   "metadata": {},
   "source": [
    "##### Substitue"
   ]
  },
  {
   "cell_type": "code",
   "execution_count": 29,
   "metadata": {},
   "outputs": [
    {
     "name": "stdout",
     "output_type": "stream",
     "text": [
      "I hate C. \n",
      "I hate C++. \n",
      "I hate Python\n"
     ]
    }
   ],
   "source": [
    "s = 'I like C. \\nI like C++. \\nI like Python'\n",
    "print(s.replace('like', 'hate'))"
   ]
  },
  {
   "cell_type": "code",
   "execution_count": 31,
   "metadata": {},
   "outputs": [
    {
     "name": "stdout",
     "output_type": "stream",
     "text": [
      "I hate C. \n",
      "I like C++. \n",
      "I like Python\n"
     ]
    }
   ],
   "source": [
    "print(s.replace('like', 'hate', 1))"
   ]
  },
  {
   "cell_type": "markdown",
   "metadata": {},
   "source": [
    "##### Other useful String commands"
   ]
  },
  {
   "cell_type": "markdown",
   "metadata": {},
   "source": [
    "We can test if a string contains certain properties using the following functions:\n",
    "\n",
    "`islower()` - returns True if *all* characters in a string are lower case\n",
    "\n",
    "`isupper()` - returns True if *all* characters in a string are upper case\n",
    "\n",
    "`isnumeric()` - returns True if *all* characters in a string are numeric\n",
    "\n",
    "`isalpha()` - returns True if *all* characters in a string are in the alphabet\n",
    "\n",
    "`isalnum()` - returns True if *all* characters in a string are alphanumeric\n",
    "\n",
    "`startswith()` - returns True if a string starts with a specified value\n",
    "\n",
    "`endswith()` - returns True if a string ends with a specified value"
   ]
  },
  {
   "cell_type": "code",
   "execution_count": null,
   "metadata": {},
   "outputs": [
    {
     "name": "stdout",
     "output_type": "stream",
     "text": [
      "The text is all lower case    : False\n",
      "The text is all upper case    : False\n",
      "The text is all numeric       : False\n",
      "The text is all alphabetic    : False\n",
      "The text is all alpha-numeric : False\n",
      "The text starts with \"Hello\"  : True\n",
      "The text ends with \"!\"        : False\n"
     ]
    }
   ],
   "source": [
    "py_desc = 'Python description: Python is a programming language that lets you work quickly and integrate systems more effectively.'\n",
    "print('The text is all lower case    : '+str(py_desc.islower()))\n",
    "print('The text is all upper case    : '+str(py_desc.isupper()))\n",
    "print('The text is all numeric       : '+str(py_desc.isnumeric()))\n",
    "print('The text is all alphabetic    : '+str(py_desc.isalpha()))\n",
    "print('The text is all alpha-numeric : '+str(py_desc.isalnum()))\n",
    "print('The text starts with \"Py\"  : '+str(py_desc.startswith('Py')))\n",
    "print('The text ends with \"!\"        : '+str(py_desc.endswith('!')))"
   ]
  },
  {
   "cell_type": "code",
   "execution_count": 21,
   "metadata": {},
   "outputs": [
    {
     "data": {
      "text/plain": [
       "44"
      ]
     },
     "execution_count": 21,
     "metadata": {},
     "output_type": "execute_result"
    }
   ],
   "source": [
    "py_desc.find('language')"
   ]
  },
  {
   "cell_type": "code",
   "execution_count": 22,
   "metadata": {},
   "outputs": [
    {
     "data": {
      "text/plain": [
       "44"
      ]
     },
     "execution_count": 22,
     "metadata": {},
     "output_type": "execute_result"
    }
   ],
   "source": [
    "py_desc.index('language')"
   ]
  },
  {
   "cell_type": "code",
   "execution_count": 23,
   "metadata": {},
   "outputs": [
    {
     "data": {
      "text/plain": [
       "2"
      ]
     },
     "execution_count": 23,
     "metadata": {},
     "output_type": "execute_result"
    }
   ],
   "source": [
    "py_desc.count(\"Python\")"
   ]
  },
  {
   "cell_type": "code",
   "execution_count": null,
   "metadata": {},
   "outputs": [
    {
     "data": {
      "text/plain": [
       "'Python description: Python is a programming language that lets you work quickly and integrate systems more effectively'"
      ]
     },
     "metadata": {},
     "output_type": "display_data"
    }
   ],
   "source": [
    "py_desc.strip('.')"
   ]
  },
  {
   "cell_type": "code",
   "execution_count": null,
   "metadata": {},
   "outputs": [
    {
     "data": {
      "text/plain": [
       "'PYTHON DESCRIPTION: PYTHON IS A PROGRAMMING LANGUAGE THAT LETS YOU WORK QUICKLY AND INTEGRATE SYSTEMS MORE EFFECTIVELY.'"
      ]
     },
     "metadata": {},
     "output_type": "display_data"
    }
   ],
   "source": [
    "py_desc.upper()"
   ]
  },
  {
   "cell_type": "code",
   "execution_count": null,
   "metadata": {},
   "outputs": [],
   "source": [
    "py_desc.lower()"
   ]
  },
  {
   "cell_type": "code",
   "execution_count": null,
   "metadata": {},
   "outputs": [
    {
     "data": {
      "text/plain": [
       "'Python Description: Python Is A Programming Language That Lets You Work Quickly And Integrate Systems More Effectively.'"
      ]
     },
     "metadata": {},
     "output_type": "display_data"
    }
   ],
   "source": [
    "py_desc.title()"
   ]
  },
  {
   "cell_type": "markdown",
   "metadata": {},
   "source": [
    "#### 2.2 f-string\n",
    "[[F-String.ipynb]]"
   ]
  },
  {
   "cell_type": "code",
   "execution_count": null,
   "metadata": {},
   "outputs": [],
   "source": [
    "number3 = 101\n",
    "print(f'the number I have defined is {number3}.')"
   ]
  },
  {
   "cell_type": "code",
   "execution_count": null,
   "metadata": {},
   "outputs": [],
   "source": [
    "# Sperator and number formatting\n",
    "n = 1620000099000 # can also use 1_000_000_000\n",
    "\n",
    "print(f'The number is: {n:,}')\n",
    "print(f'The number is: {n:_}')\n",
    "print(f'The number is: {n:.3e}')"
   ]
  },
  {
   "cell_type": "code",
   "execution_count": 14,
   "metadata": {},
   "outputs": [
    {
     "name": "stdout",
     "output_type": "stream",
     "text": [
      "3.14\n",
      "3,141,592.65\n"
     ]
    }
   ],
   "source": [
    "#Float formatting\n",
    "pi = 3.14159265359\n",
    "print(f'{pi:.2f}')\n",
    "print(f'{pi*1000000:,.2f}')"
   ]
  },
  {
   "cell_type": "markdown",
   "metadata": {},
   "source": [
    "#### 2.3. Lists"
   ]
  },
  {
   "cell_type": "code",
   "execution_count": 1,
   "metadata": {},
   "outputs": [
    {
     "data": {
      "text/plain": [
       "['MSFT', 'NFLX', 'TSLA']"
      ]
     },
     "execution_count": 1,
     "metadata": {},
     "output_type": "execute_result"
    }
   ],
   "source": [
    "tickers = ['MSFT','NFLX','TSLA']\n",
    "tickers"
   ]
  },
  {
   "cell_type": "code",
   "execution_count": null,
   "metadata": {},
   "outputs": [],
   "source": [
    "tickers[0]"
   ]
  },
  {
   "cell_type": "code",
   "execution_count": null,
   "metadata": {},
   "outputs": [],
   "source": [
    "tickers[-1]"
   ]
  },
  {
   "cell_type": "code",
   "execution_count": null,
   "metadata": {},
   "outputs": [],
   "source": [
    "tickers[1:2]"
   ]
  },
  {
   "cell_type": "code",
   "execution_count": null,
   "metadata": {},
   "outputs": [],
   "source": [
    "tickers[2:]"
   ]
  },
  {
   "cell_type": "code",
   "execution_count": null,
   "metadata": {},
   "outputs": [],
   "source": [
    "tickers.append('AAPL')\n",
    "tickers"
   ]
  },
  {
   "cell_type": "code",
   "execution_count": null,
   "metadata": {},
   "outputs": [],
   "source": [
    "tickers.remove('TSLA')\n",
    "tickers"
   ]
  },
  {
   "cell_type": "code",
   "execution_count": null,
   "metadata": {},
   "outputs": [],
   "source": [
    "len(tickers)"
   ]
  },
  {
   "cell_type": "code",
   "execution_count": null,
   "metadata": {},
   "outputs": [],
   "source": [
    "\"AAPL\" in tickers"
   ]
  },
  {
   "cell_type": "code",
   "execution_count": null,
   "metadata": {},
   "outputs": [],
   "source": [
    "\"TSLA\" in tickers"
   ]
  },
  {
   "cell_type": "code",
   "execution_count": null,
   "metadata": {},
   "outputs": [],
   "source": [
    "tickers.index(\"AAPL\")"
   ]
  },
  {
   "cell_type": "markdown",
   "metadata": {},
   "source": [
    "##### `map()` function"
   ]
  },
  {
   "cell_type": "code",
   "execution_count": null,
   "metadata": {},
   "outputs": [],
   "source": []
  },
  {
   "cell_type": "markdown",
   "metadata": {},
   "source": [
    "##### `filter()` function"
   ]
  },
  {
   "cell_type": "code",
   "execution_count": null,
   "metadata": {},
   "outputs": [],
   "source": []
  },
  {
   "cell_type": "markdown",
   "metadata": {},
   "source": [
    "##### List Comprehension"
   ]
  },
  {
   "cell_type": "code",
   "execution_count": 33,
   "metadata": {},
   "outputs": [
    {
     "data": {
      "text/plain": [
       "[1, 2, 3, 4, 5, 6, 7, 8, 9, 10]"
      ]
     },
     "execution_count": 33,
     "metadata": {},
     "output_type": "execute_result"
    }
   ],
   "source": [
    "#Basic syntax: [function(i) for i in iterable]\n",
    "[i + 1 for i in range(10)]"
   ]
  },
  {
   "cell_type": "code",
   "execution_count": 21,
   "metadata": {},
   "outputs": [
    {
     "data": {
      "text/plain": [
       "[[0, 1], [10, 11], [20, 21]]"
      ]
     },
     "execution_count": 21,
     "metadata": {},
     "output_type": "execute_result"
    }
   ],
   "source": [
    "[[y*10 + x for x in range(2)] for y in range(3)]"
   ]
  },
  {
   "cell_type": "code",
   "execution_count": 34,
   "metadata": {},
   "outputs": [
    {
     "data": {
      "text/plain": [
       "[1, 3, 5, 7, 9]"
      ]
     },
     "execution_count": 34,
     "metadata": {},
     "output_type": "execute_result"
    }
   ],
   "source": [
    "#Plus if statement\n",
    "[i + 1 for i in range(10) if i%2==0]"
   ]
  },
  {
   "cell_type": "code",
   "execution_count": null,
   "metadata": {},
   "outputs": [
    {
     "data": {
      "text/plain": [
       "[1, 1, 3, 9, 5, 25, 7, 49, 9, 81]"
      ]
     },
     "execution_count": 35,
     "metadata": {},
     "output_type": "execute_result"
    }
   ],
   "source": [
    "#Plus if/else statement\n",
    "[i + 1 if i%2==0 else i**2 for i in range(10) ]"
   ]
  },
  {
   "cell_type": "code",
   "execution_count": 34,
   "metadata": {},
   "outputs": [
    {
     "data": {
      "text/plain": [
       "['yummy apple', 'long', 'yummy peach', 'long', 'yummy grape']"
      ]
     },
     "execution_count": 34,
     "metadata": {},
     "output_type": "execute_result"
    }
   ],
   "source": [
    "FruitList = ['apple', 'banana', 'peach', 'orange', 'grape']\n",
    "['yummy ' + i if len(i)<=5 else 'long' for i in FruitList]"
   ]
  },
  {
   "cell_type": "code",
   "execution_count": 25,
   "metadata": {},
   "outputs": [
    {
     "data": {
      "text/plain": [
       "[1, 2, True, 'apple', 5, 6, 7, 8]"
      ]
     },
     "execution_count": 25,
     "metadata": {},
     "output_type": "execute_result"
    }
   ],
   "source": [
    "pairs = [[1, 2], [True, 'apple'], (5, 6, 7, 8)]\n",
    "[item for sublist in pairs for item in sublist]"
   ]
  },
  {
   "cell_type": "code",
   "execution_count": 31,
   "metadata": {},
   "outputs": [
    {
     "data": {
      "text/plain": [
       "True"
      ]
     },
     "execution_count": 31,
     "metadata": {},
     "output_type": "execute_result"
    }
   ],
   "source": [
    "any(i < 5 for i in range(10))"
   ]
  },
  {
   "cell_type": "code",
   "execution_count": 32,
   "metadata": {},
   "outputs": [
    {
     "data": {
      "text/plain": [
       "False"
      ]
     },
     "execution_count": 32,
     "metadata": {},
     "output_type": "execute_result"
    }
   ],
   "source": [
    "all(i < 5 for i in range(10))"
   ]
  },
  {
   "cell_type": "code",
   "execution_count": 35,
   "metadata": {},
   "outputs": [
    {
     "data": {
      "text/plain": [
       "True"
      ]
     },
     "execution_count": 35,
     "metadata": {},
     "output_type": "execute_result"
    }
   ],
   "source": [
    "any(len(i) <= 5 for i in FruitList)"
   ]
  },
  {
   "cell_type": "markdown",
   "metadata": {},
   "source": [
    "##### `zip()` function\n",
    "The function takes multiple iterables and returns an iterator of tuples. Each tuple contains elements from the corresponding index of the input iterables."
   ]
  },
  {
   "cell_type": "code",
   "execution_count": 1,
   "metadata": {},
   "outputs": [
    {
     "name": "stdout",
     "output_type": "stream",
     "text": [
      "[('Alice', 25), ('Bob', 30), ('Charlie', 35)]\n"
     ]
    }
   ],
   "source": [
    "names = [\"Alice\", \"Bob\", \"Charlie\"]\n",
    "ages = [25, 30, 35]\n",
    "\n",
    "zipped = zip(names, ages)\n",
    "print(list(zipped))"
   ]
  },
  {
   "cell_type": "code",
   "execution_count": null,
   "metadata": {},
   "outputs": [
    {
     "name": "stdout",
     "output_type": "stream",
     "text": [
      "Alice aged 25\n",
      "Bob aged 30\n",
      "Charlie aged 35\n"
     ]
    }
   ],
   "source": [
    "# Using `zip()` in Loops\n",
    "for names, ages in zip(names, ages):\n",
    "    print(f\"{names} aged {ages}\")"
   ]
  },
  {
   "cell_type": "code",
   "execution_count": 6,
   "metadata": {},
   "outputs": [
    {
     "name": "stdout",
     "output_type": "stream",
     "text": [
      "1. Apple: $1.2\n",
      "2. Banana: $0.5\n",
      "3. Cherry: $2.5\n"
     ]
    }
   ],
   "source": [
    "# Using `zip()` with `enumerate`\n",
    "items = [\"Apple\", \"Banana\", \"Cherry\"]\n",
    "prices = [1.2, 0.5, 2.5]\n",
    "\n",
    "for index, (item, price) in enumerate(zip(items, prices), start=1):\n",
    "    print(f\"{index}. {item}: ${price}\")"
   ]
  },
  {
   "cell_type": "code",
   "execution_count": 26,
   "metadata": {},
   "outputs": [
    {
     "name": "stdout",
     "output_type": "stream",
     "text": [
      "('Alice', 'Bob', 'Charlie')\n",
      "(25, 30, 35)\n"
     ]
    }
   ],
   "source": [
    "# Unzipping Data\n",
    "zipped_data = [('Alice', 25), ('Bob', 30), ('Charlie', 35)]\n",
    "names, ages = zip(*zipped_data)\n",
    "\n",
    "print(names)  # Output: ('Alice', 'Bob', 'Charlie')\n",
    "print(ages)   # Output: (25, 30, 35)"
   ]
  },
  {
   "cell_type": "markdown",
   "metadata": {},
   "source": [
    "##### Unpacking Operator `*`"
   ]
  },
  {
   "cell_type": "code",
   "execution_count": null,
   "metadata": {},
   "outputs": [],
   "source": [
    "companies = ['TSLA', 'AAPL', 'MSFT', 'AMZN', 'GOOGL']\n",
    "first, second, *middle, last = companies\n",
    "print(first, second, middle, last)"
   ]
  },
  {
   "cell_type": "markdown",
   "metadata": {},
   "source": [
    "#### 2.4. Dictionaries"
   ]
  },
  {
   "cell_type": "code",
   "execution_count": 40,
   "metadata": {},
   "outputs": [
    {
     "data": {
      "text/plain": [
       "{'MSFT': 200, 'GOOGL': 40, 'TSLA': 20}"
      ]
     },
     "execution_count": 40,
     "metadata": {},
     "output_type": "execute_result"
    }
   ],
   "source": [
    "tick1 = {\"MSFT\": 200, \"GOOGL\":40, \"TSLA\": 20 }\n",
    "tick1"
   ]
  },
  {
   "cell_type": "code",
   "execution_count": null,
   "metadata": {},
   "outputs": [
    {
     "data": {
      "text/plain": [
       "{'MSFT': 200, 'GOOGL': 40, 'TSLA': 20, 'FB': 20}"
      ]
     },
     "execution_count": 41,
     "metadata": {},
     "output_type": "execute_result"
    }
   ],
   "source": [
    "# to add a key-value element to the dictionary, use the 'update' method\n",
    "# Cannot use dict + dict\n",
    "tick1.update({\"FB\":20})\n",
    "# Or simply: tick1[\"FB\"] = 20\n",
    "tick1"
   ]
  },
  {
   "cell_type": "code",
   "execution_count": null,
   "metadata": {},
   "outputs": [],
   "source": [
    "del tick1[\"FB\"]\n",
    "tick1"
   ]
  },
  {
   "cell_type": "code",
   "execution_count": null,
   "metadata": {},
   "outputs": [],
   "source": [
    "\"GOOGL\" in tick1"
   ]
  },
  {
   "cell_type": "code",
   "execution_count": null,
   "metadata": {},
   "outputs": [],
   "source": [
    "tick1['GOOGL']"
   ]
  },
  {
   "cell_type": "code",
   "execution_count": null,
   "metadata": {},
   "outputs": [],
   "source": [
    "# The `get()` function\n",
    "print(tick1.get(\"NFLX\"))\n",
    "print(tick1.get(\"NFLX\", 0))"
   ]
  },
  {
   "cell_type": "code",
   "execution_count": null,
   "metadata": {},
   "outputs": [],
   "source": [
    "tick1.keys()"
   ]
  },
  {
   "cell_type": "code",
   "execution_count": null,
   "metadata": {},
   "outputs": [],
   "source": [
    "tick1.values()"
   ]
  },
  {
   "cell_type": "markdown",
   "metadata": {},
   "source": [
    "##### Using `zip()` for Dictionaries"
   ]
  },
  {
   "cell_type": "code",
   "execution_count": 5,
   "metadata": {},
   "outputs": [
    {
     "name": "stdout",
     "output_type": "stream",
     "text": [
      "{'name': 'Alice', 'age': 25, 'city': 'New York'}\n"
     ]
    }
   ],
   "source": [
    "keys = [\"name\", \"age\", \"city\"]\n",
    "values = [\"Alice\", 25, \"New York\"]\n",
    "\n",
    "person = dict(zip(keys, values))\n",
    "print(person)"
   ]
  },
  {
   "cell_type": "markdown",
   "metadata": {},
   "source": [
    "### 3. Functions"
   ]
  },
  {
   "cell_type": "code",
   "execution_count": null,
   "metadata": {},
   "outputs": [],
   "source": [
    "def add(a, b):\n",
    "    print(f'Adding {a} and {b}, we get:')\n",
    "    return a + b\n",
    "\n",
    "print(add(14, 92))\n",
    "print(add(b = 14, a = 92))"
   ]
  },
  {
   "cell_type": "code",
   "execution_count": null,
   "metadata": {},
   "outputs": [],
   "source": [
    "def greet(name, greeting = 'Hello'):\n",
    "    print(f'{greeting}, {name}!')\n",
    "\n",
    "greet(name = 'John')\n",
    "greet('Alice', 'Good Morning')"
   ]
  },
  {
   "cell_type": "markdown",
   "metadata": {},
   "source": [
    "#### `Lambda`"
   ]
  },
  {
   "cell_type": "code",
   "execution_count": null,
   "metadata": {},
   "outputs": [],
   "source": [
    "add1 = lambda a: a + 1\n",
    "add1(15)"
   ]
  },
  {
   "cell_type": "code",
   "execution_count": null,
   "metadata": {},
   "outputs": [],
   "source": [
    "add2 = lambda x, y: x + y\n",
    "add2(2, 3)"
   ]
  },
  {
   "cell_type": "code",
   "execution_count": null,
   "metadata": {},
   "outputs": [],
   "source": [
    "def add3(x, y):\n",
    "    return x + y\n",
    "add3(2, 3)"
   ]
  },
  {
   "cell_type": "code",
   "execution_count": null,
   "metadata": {},
   "outputs": [],
   "source": [
    "(lambda x, y: x + y)(2, 3)"
   ]
  },
  {
   "cell_type": "markdown",
   "metadata": {},
   "source": [
    "##### `map()`"
   ]
  },
  {
   "cell_type": "code",
   "execution_count": null,
   "metadata": {},
   "outputs": [],
   "source": [
    "numbers = [1, 2, 3, 4, 5, 6, 7, 8, 9, 10]\n",
    "\n",
    "squares = list(map(lambda x: x**2, numbers))\n",
    "print(squares)"
   ]
  },
  {
   "cell_type": "markdown",
   "metadata": {},
   "source": [
    "##### `filter()`"
   ]
  },
  {
   "cell_type": "code",
   "execution_count": null,
   "metadata": {},
   "outputs": [],
   "source": [
    "evens = list(filter(lambda x: x % 2 == 0, numbers))\n",
    "print(evens)"
   ]
  },
  {
   "cell_type": "markdown",
   "metadata": {},
   "source": [
    "##### `sorted()`"
   ]
  },
  {
   "cell_type": "code",
   "execution_count": null,
   "metadata": {},
   "outputs": [],
   "source": [
    "complex_values = [(1, 'b', 'Hello'), (2, 'a', 'World'), (3, 'c', 'Python')]\n",
    "sorted_values = sorted(complex_values, key=lambda x: x[1])\n",
    "print(sorted_values)"
   ]
  },
  {
   "cell_type": "markdown",
   "metadata": {},
   "source": [
    "#### Packages\n",
    "Python packages (or almost interchangeably, libraries) are collections of modules that are often developed by open-source community.\n",
    "- They extend the capabilities of the Python language. \n",
    "- We can import a Python package and utilize the functionalities that were written."
   ]
  },
  {
   "cell_type": "markdown",
   "metadata": {},
   "source": [
    "#### Type-hinting\n",
    "Type hinting let others know the expected data types for variables, function arguments, and return values.\n",
    "Here’s how you can add type hints to a function:\n",
    "Add a colon and a data type after each function parameter\n",
    "Add an arrow (->) and a data type after the function to specify the return data type\n",
    "For example, a function that sums two integers and returns an integers:"
   ]
  },
  {
   "cell_type": "code",
   "execution_count": null,
   "metadata": {},
   "outputs": [],
   "source": [
    "def add_numbers(num1: int, num2: int) -> int:\n",
    "    return (num1 + num2)"
   ]
  },
  {
   "cell_type": "markdown",
   "metadata": {},
   "source": [
    "### 4. Control flows"
   ]
  },
  {
   "cell_type": "markdown",
   "metadata": {},
   "source": [
    "#### 4.1 `if`,  `elif` and `else` statement\n"
   ]
  },
  {
   "cell_type": "code",
   "execution_count": null,
   "metadata": {},
   "outputs": [],
   "source": [
    "if True:\n",
    "    print(\"do stuff\")"
   ]
  },
  {
   "cell_type": "code",
   "execution_count": null,
   "metadata": {},
   "outputs": [],
   "source": [
    "tick = 'TSLA'"
   ]
  },
  {
   "cell_type": "code",
   "execution_count": null,
   "metadata": {},
   "outputs": [],
   "source": [
    "if tick == 'MSFT':\n",
    "    print (\"BUY\")\n",
    "else:\n",
    "    print (\"SELL\")"
   ]
  },
  {
   "cell_type": "code",
   "execution_count": null,
   "metadata": {},
   "outputs": [],
   "source": [
    "Strategy = 'Buy' if tick == 'MSFT' else 'Sell'"
   ]
  },
  {
   "cell_type": "code",
   "execution_count": null,
   "metadata": {},
   "outputs": [],
   "source": [
    "if tick == 'MSFT':\n",
    "    print (\"BUY\")\n",
    "elif tick == 'TSLA':\n",
    "    print (\"Going to Mars\")\n",
    "else:\n",
    "    print (\"SELL\")"
   ]
  },
  {
   "cell_type": "markdown",
   "metadata": {},
   "source": [
    "#### 4.2 `for` Loop"
   ]
  },
  {
   "cell_type": "code",
   "execution_count": null,
   "metadata": {},
   "outputs": [],
   "source": [
    "for i in range(3):\n",
    "    print(f'Hello: {i}')"
   ]
  },
  {
   "cell_type": "code",
   "execution_count": null,
   "metadata": {},
   "outputs": [],
   "source": [
    "b1 = list(range(10))\n",
    "sum = 0\n",
    "for x in b1:\n",
    "    sum += x**2\n",
    "print(sum)"
   ]
  },
  {
   "cell_type": "code",
   "execution_count": null,
   "metadata": {},
   "outputs": [],
   "source": [
    "tickers = ['MSFT','NFLX','TSLA']\n",
    "for item in tickers:\n",
    "    print(f\"buy {item}!\")"
   ]
  },
  {
   "cell_type": "markdown",
   "metadata": {},
   "source": [
    "Using `for` Loop with `else`"
   ]
  },
  {
   "cell_type": "code",
   "execution_count": 24,
   "metadata": {},
   "outputs": [
    {
     "name": "stdout",
     "output_type": "stream",
     "text": [
      "Nvidia not found\n"
     ]
    }
   ],
   "source": [
    "tickers = ['MSFT','NFLX','TSLA']\n",
    "for ticker in tickers:\n",
    "    if ticker == 'NVDA':\n",
    "        break\n",
    "else:\n",
    "    print(\"Nvidia not found\")"
   ]
  },
  {
   "cell_type": "markdown",
   "metadata": {},
   "source": [
    "##### Loop Control Statements: pass, continue and break"
   ]
  },
  {
   "cell_type": "code",
   "execution_count": null,
   "metadata": {},
   "outputs": [],
   "source": [
    "# pass: acts as a placeholder and does nothing. It is commonly used when a statement is required syntactically but no action is needed.\n",
    "for i in tickers:\n",
    "    if i == 'MSFT':\n",
    "        pass\n",
    "    elif i == 'NFLX':\n",
    "        pass\n",
    "    else:\n",
    "        print(f\"{i} - Sell this stock!\")"
   ]
  },
  {
   "cell_type": "code",
   "execution_count": null,
   "metadata": {},
   "outputs": [],
   "source": [
    "#continue: skips the current iteration of the loop and moves to the next iteration.\n",
    "for i in tickers:\n",
    "    if i == 'MSFT':\n",
    "        continue\n",
    "    elif i == 'NFLX':\n",
    "        continue\n",
    "    else:\n",
    "        print(i + \" - Sell this stock!\")"
   ]
  },
  {
   "cell_type": "code",
   "execution_count": null,
   "metadata": {},
   "outputs": [],
   "source": [
    "#break: terminates the loop prematurely and transfers control to the next statement after the loop.\n",
    "for i in tickers:\n",
    "    if i == 'MSFT':\n",
    "        print(i + \" - Buy this stock!\")\n",
    "    elif i == 'NFLX':\n",
    "        break\n",
    "    elif i == \"TSLA\":\n",
    "        print(i + \" - Buy this stock!\")"
   ]
  },
  {
   "cell_type": "markdown",
   "metadata": {},
   "source": [
    "#### 4.3 `while` Loop "
   ]
  },
  {
   "cell_type": "code",
   "execution_count": null,
   "metadata": {},
   "outputs": [],
   "source": [
    "count = 1\n",
    "while count < 10:\n",
    "    print(f\"the count is: {count}\")\n",
    "    count += 1"
   ]
  },
  {
   "cell_type": "markdown",
   "metadata": {},
   "source": [
    "#### 4.4 Expression statements: assert\n",
    "The assert statement is used to test conditions and trigger an error if the condition is not met. It is often used for debugging and testing purposes."
   ]
  },
  {
   "cell_type": "code",
   "execution_count": null,
   "metadata": {},
   "outputs": [],
   "source": [
    "x = 5\n",
    "assert x == 5, \"x should be 5\""
   ]
  },
  {
   "cell_type": "markdown",
   "metadata": {},
   "source": [
    "### 5. Error handling: `try` and `except`"
   ]
  },
  {
   "cell_type": "markdown",
   "metadata": {},
   "source": [
    "[[Python Error Types.md]]"
   ]
  },
  {
   "cell_type": "code",
   "execution_count": null,
   "metadata": {},
   "outputs": [],
   "source": [
    "a , b = 10, '50'\n",
    "print(a + b)\n",
    "#TypeError: unsupported operand type(s) for +: **'int'** and **'str'**"
   ]
  },
  {
   "cell_type": "markdown",
   "metadata": {},
   "source": [
    "`try` and `except` block"
   ]
  },
  {
   "cell_type": "code",
   "execution_count": null,
   "metadata": {},
   "outputs": [],
   "source": [
    "a , b = 10 , '50'\n",
    "try:\n",
    "    print(a + b)\n",
    "except:\n",
    "    print(\"There was an Error here\")\n",
    "\n",
    "print('The program still continues...')"
   ]
  },
  {
   "cell_type": "code",
   "execution_count": null,
   "metadata": {},
   "outputs": [],
   "source": [
    "a , b = 10 , '50'\n",
    "try:\n",
    "    print(a + b)\n",
    "except Exception as e: #This is a bad practice\n",
    "    print(f'Something went wrong: {e}')\n",
    "\n",
    "print('The program still continues...')"
   ]
  },
  {
   "cell_type": "code",
   "execution_count": null,
   "metadata": {},
   "outputs": [],
   "source": [
    "a , b = 10 , '50'\n",
    "try:\n",
    "    print(a + b)\n",
    "except TypeError as e:\n",
    "    print(f'Please enter a numebr in the form of integer or a float: {e}')\n",
    "except Exception as e: #This is a bad practice\n",
    "    print(f'Something else went wrong: {e}')\n",
    "print('The program still continues...')"
   ]
  },
  {
   "cell_type": "markdown",
   "metadata": {},
   "source": [
    "`finally` block"
   ]
  },
  {
   "cell_type": "code",
   "execution_count": null,
   "metadata": {},
   "outputs": [
    {
     "name": "stdout",
     "output_type": "stream",
     "text": [
      "Not working\n",
      "Program still running\n",
      "Program still running on and on\n"
     ]
    }
   ],
   "source": [
    "try:\n",
    "    raise ValueError('Not working')\n",
    "except Exception as e:\n",
    "    print(e)\n",
    "finally:\n",
    "    print('This will still be printed')\n",
    "\n",
    "print('The program still continues...')"
   ]
  },
  {
   "cell_type": "markdown",
   "metadata": {},
   "source": [
    "### 6. Imports"
   ]
  },
  {
   "cell_type": "code",
   "execution_count": null,
   "metadata": {},
   "outputs": [],
   "source": [
    "import math\n",
    "math.sqrt(3)"
   ]
  },
  {
   "cell_type": "code",
   "execution_count": null,
   "metadata": {},
   "outputs": [],
   "source": [
    "from math import sqrt, tan, cos\n",
    "print(sqrt(3))\n",
    "print(tan(1.5))\n",
    "print(cos(3))"
   ]
  },
  {
   "cell_type": "markdown",
   "metadata": {},
   "source": [
    "### 7. Summary Project"
   ]
  },
  {
   "cell_type": "markdown",
   "metadata": {},
   "source": [
    "#### 7.1 A Function of counting vowels"
   ]
  },
  {
   "cell_type": "code",
   "execution_count": null,
   "metadata": {},
   "outputs": [
    {
     "name": "stdout",
     "output_type": "stream",
     "text": [
      "2\n"
     ]
    }
   ],
   "source": [
    "# original function:\n",
    "\n",
    "def example_function(string):\n",
    "    vowels = 0\n",
    "    for i in string:\n",
    "        if i in 'aeiouAEIOU':\n",
    "            vowels += 1\n",
    "    return vowels\n",
    "\n",
    "print(example_function('hello'))"
   ]
  },
  {
   "cell_type": "code",
   "execution_count": null,
   "metadata": {},
   "outputs": [
    {
     "name": "stdout",
     "output_type": "stream",
     "text": [
      "2\n"
     ]
    }
   ],
   "source": [
    "# Improved function:\n",
    "\n",
    "def count_vowels(text: str) -> int: # type hinting\n",
    "    \"\"\"\n",
    "    This function counts the number of vowels in a given string.\n",
    "    :param text: A string.\n",
    "    :return: The number of vowels in the string.\n",
    "    >>> count_vowels('hello')\n",
    "    2\n",
    "    \"\"\"\n",
    "    # input type validation\n",
    "    if not isinstance(text, str):\n",
    "        raise TypeError(f\"The input must be a string. {type(text)} is not valid.\")\n",
    "    \n",
    "    return sum(char.lower() in 'aeiou' for char in text)\n",
    "\n",
    "print(count_vowels('hello'))"
   ]
  },
  {
   "cell_type": "code",
   "execution_count": null,
   "metadata": {},
   "outputs": [],
   "source": [
    "count_vowels = lambda x: sum(char.lower() in 'aeiou' for char in x)\n",
    "print(count_vowels('hello'))"
   ]
  },
  {
   "cell_type": "markdown",
   "metadata": {},
   "source": [
    "#### 7.2 A simple chatbot"
   ]
  },
  {
   "cell_type": "code",
   "execution_count": null,
   "metadata": {},
   "outputs": [],
   "source": [
    "bot_name: str = 'GLADoS'\n",
    "print(f'Hello, I am {bot_name}. What do you want to say to me?')\n",
    "\n",
    "while True:\n",
    "    user_input: str = input('Your command: ').lower()\n",
    "    if user_input in ['hello', 'hi', 'hey']:\n",
    "        print(f'{bot_name}: Hi, Nice to meet you!')\n",
    "    elif user_input in ['bye', 'goodbye', 'see you']:\n",
    "        print(f'{bot_name}: Goodbye!')\n",
    "        break\n",
    "    elif any(i in user_input for i in ['+', 'add', 'plus']):\n",
    "        print(f'{bot_name}: Sure. Please give me two numbers to add.')\n",
    "        try:\n",
    "            num1: float = float(input('First number: '))\n",
    "            num2: float = float(input('Second number: '))\n",
    "            print(f'{bot_name}: The sum is {num1 + num2:,.2f}')\n",
    "        except ValueError:\n",
    "            print(f'{bot_name}: Please enter a valid number.')\n",
    "    else:\n",
    "        print(f'{bot_name}: Sorry, I do not understand. Can you repeat?')"
   ]
  }
 ],
 "metadata": {
  "kernelspec": {
   "display_name": "Python 3",
   "language": "python",
   "name": "python3"
  },
  "language_info": {
   "codemirror_mode": {
    "name": "ipython",
    "version": 3
   },
   "file_extension": ".py",
   "mimetype": "text/x-python",
   "name": "python",
   "nbconvert_exporter": "python",
   "pygments_lexer": "ipython3",
   "version": "3.12.8"
  }
 },
 "nbformat": 4,
 "nbformat_minor": 2
}
